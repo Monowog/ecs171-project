{
 "cells": [
  {
   "cell_type": "code",
   "execution_count": 7,
   "id": "8de2ccb5",
   "metadata": {},
   "outputs": [
    {
     "name": "stdout",
     "output_type": "stream",
     "text": [
      "['paper', '.DS_Store', 'metal', 'cardboard', 'trash', 'glass', 'plastic']\n"
     ]
    }
   ],
   "source": [
    "import os\n",
    "import numpy as np\n",
    "\n",
    "data = 'archive/Garbage classification/Garbage classification'\n",
    "\n",
    "print(os.listdir(data))\n",
    "from PIL import Image\n",
    "\n",
    "png_filepath = data + '/paper/paper312.jpg'\n",
    "png_pil_img = Image.open(png_filepath)\n",
    "png_np_img = np.asarray(png_pil_img)"
   ]
  },
  {
   "cell_type": "code",
   "execution_count": 16,
   "id": "96c847de",
   "metadata": {},
   "outputs": [
    {
     "data": {
      "text/plain": [
       "(3, 512, 384)"
      ]
     },
     "execution_count": 16,
     "metadata": {},
     "output_type": "execute_result"
    }
   ],
   "source": [
    "png_np_img.T.shape"
   ]
  },
  {
   "cell_type": "code",
   "execution_count": 37,
   "id": "02abca6f",
   "metadata": {},
   "outputs": [
    {
     "name": "stdout",
     "output_type": "stream",
     "text": [
      "Found 2276 images belonging to 6 classes.\n",
      "Found 251 images belonging to 6 classes.\n"
     ]
    }
   ],
   "source": [
    "from tensorflow.keras.preprocessing.image import ImageDataGenerator\n",
    "\n",
    "batch_size = 64 # Make this number of images or do actual BGD\n",
    "target_size = (128, 128) # Make this smaller\n",
    "\n",
    "train = ImageDataGenerator(horizontal_flip=True, vertical_flip=True,validation_split=0.1,rescale=1./255,\n",
    "                         shear_range = 0.1,zoom_range = 0.1,\n",
    "                         width_shift_range = 0.1,\n",
    "                         height_shift_range = 0.1,)\n",
    "\n",
    "test =ImageDataGenerator(rescale=1./255,validation_split=0.1)\n",
    "\n",
    "train_generator = train.flow_from_directory(\n",
    "    data,\n",
    "    target_size=(128, 128),\n",
    "    batch_size=batch_size,\n",
    "    class_mode='categorical',\n",
    "    subset = 'training'\n",
    ")\n",
    "\n",
    "test_generator = test.flow_from_directory(\n",
    "    data,\n",
    "    target_size=(128, 128),\n",
    "    batch_size=batch_size,\n",
    "    class_mode='categorical',\n",
    "    subset = 'validation'\n",
    ")"
   ]
  },
  {
   "cell_type": "code",
   "execution_count": 53,
   "id": "249b66fd",
   "metadata": {},
   "outputs": [],
   "source": [
    "from tensorflow.keras.callbacks import ModelCheckpoint\n",
    "from tensorflow.keras import models, layers\n",
    "import tensorflow as tf\n",
    "from tensorflow.keras import regularizers\n",
    "from tensorflow.keras.layers import BatchNormalization\n",
    "from tensorflow.keras.layers import Dropout\n",
    "\n",
    "\n",
    "def create_model():\n",
    "    labels = list(train_generator.class_indices.keys())\n",
    "    print(labels)\n",
    "    num_classes = len(labels)\n",
    "\n",
    "    # Build Model\n",
    "    model = models.Sequential()\n",
    "\n",
    "\n",
    "    model.add(layers.Conv2D(8,(3,3), padding='same', input_shape=(128, 128,3),activation='relu'))\n",
    "    model.add(layers.MaxPooling2D(pool_size=(2,2))) \n",
    "    model.add(BatchNormalization())\n",
    "    model.add(Dropout(0.15)) \n",
    "    \n",
    "    model.add(layers.Conv2D(16,(3,3), padding='same', activation='relu'))\n",
    "    model.add(layers.MaxPooling2D(pool_size=(2,2)))\n",
    "    #model.add(BatchNormalization())\n",
    "    model.add(Dropout(0.15)) \n",
    "\n",
    "    model.add(layers.Conv2D(32,(3,3), padding='same', activation='relu'))\n",
    "    model.add(layers.MaxPooling2D(pool_size=(2,2)))\n",
    "\n",
    "    model.add(layers.Conv2D(64,(3,3), padding='same', activation='relu'))\n",
    "    model.add(layers.MaxPooling2D(pool_size=(2,2))) \n",
    "    '''\n",
    "    model.add(layers.Conv2D(32,(3,3), padding='same', activation='relu'))\n",
    "    model.add(layers.MaxPooling2D(pool_size=(2,2)))\n",
    "\n",
    "    model.add(layers.Conv2D(32,(3,3), padding='same', activation='relu'))\n",
    "    model.add(layers.MaxPooling2D(pool_size=(2,2))) \n",
    "    '''\n",
    "    model.add(layers.Flatten())\n",
    "    model.add(layers.Dense(1024,activation='relu'))\n",
    "    model.add(layers.Dense(64,activation='relu'))\n",
    "    model.add(layers.Dense(num_classes,activation='softmax'))\n",
    "\n",
    "    # adding a dropout layer, batch normalization, early stopping\n",
    "    model.compile(optimizer=tf.keras.optimizers.Adam(learning_rate=1e-3), loss=tf.keras.losses.CategoricalCrossentropy(), metrics=['accuracy'])\n",
    "    checkpoint = ModelCheckpoint(\"best_model.h5\", monitor='val_accuracy', verbose=1, save_best_only=True, mode='max')\n",
    "    \n",
    "    return model, checkpoint"
   ]
  },
  {
   "cell_type": "code",
   "execution_count": 54,
   "id": "191018bb",
   "metadata": {},
   "outputs": [
    {
     "name": "stdout",
     "output_type": "stream",
     "text": [
      "['cardboard', 'glass', 'metal', 'paper', 'plastic', 'trash']\n",
      "Epoch 1/10\n",
      "36/36 [==============================] - 25s 646ms/step - loss: 1.7660 - accuracy: 0.2944 - val_loss: 1.7367 - val_accuracy: 0.1912\n",
      "Epoch 2/10\n",
      "36/36 [==============================] - 23s 624ms/step - loss: 1.4308 - accuracy: 0.4064 - val_loss: 1.7253 - val_accuracy: 0.3068\n",
      "Epoch 3/10\n",
      "36/36 [==============================] - 24s 673ms/step - loss: 1.3209 - accuracy: 0.4714 - val_loss: 1.7127 - val_accuracy: 0.3865\n",
      "Epoch 4/10\n",
      "36/36 [==============================] - 24s 665ms/step - loss: 1.2592 - accuracy: 0.5075 - val_loss: 1.6824 - val_accuracy: 0.4980\n",
      "Epoch 5/10\n",
      "36/36 [==============================] - 25s 679ms/step - loss: 1.1713 - accuracy: 0.5606 - val_loss: 1.5925 - val_accuracy: 0.5538\n",
      "Epoch 6/10\n",
      "36/36 [==============================] - 24s 661ms/step - loss: 1.1380 - accuracy: 0.5593 - val_loss: 1.6282 - val_accuracy: 0.3665\n",
      "Epoch 7/10\n",
      "36/36 [==============================] - 23s 626ms/step - loss: 1.0778 - accuracy: 0.6116 - val_loss: 1.5304 - val_accuracy: 0.5020\n",
      "Epoch 8/10\n",
      "36/36 [==============================] - 23s 625ms/step - loss: 0.9926 - accuracy: 0.6287 - val_loss: 1.4258 - val_accuracy: 0.5060\n",
      "Epoch 9/10\n",
      "36/36 [==============================] - 23s 629ms/step - loss: 0.9266 - accuracy: 0.6525 - val_loss: 1.3118 - val_accuracy: 0.5896\n",
      "Epoch 10/10\n",
      "36/36 [==============================] - 23s 628ms/step - loss: 0.8806 - accuracy: 0.6661 - val_loss: 1.3002 - val_accuracy: 0.5498\n"
     ]
    }
   ],
   "source": [
    "from scikeras.wrappers import KerasClassifier\n",
    "from tensorflow.keras.callbacks import ModelCheckpoint\n",
    "\n",
    "# Create your model and checkpoint\n",
    "model, checkpoint = create_model()\n",
    "\n",
    "# Train the model using the training generator\n",
    "history = model.fit(train_generator, epochs=10, validation_data=test_generator)"
   ]
  },
  {
   "cell_type": "code",
   "execution_count": 56,
   "id": "76001a3f",
   "metadata": {},
   "outputs": [
    {
     "name": "stdout",
     "output_type": "stream",
     "text": [
      "4/4 [==============================] - 1s 232ms/step\n"
     ]
    },
    {
     "data": {
      "image/png": "[encoded data removed]",
      "text/plain": [
       "<Figure size 576x432 with 2 Axes>"
      ]
     },
     "metadata": {
      "needs_background": "light"
     },
     "output_type": "display_data"
    }
   ],
   "source": [
    "from sklearn.metrics import confusion_matrix\n",
    "import seaborn as sns\n",
    "import matplotlib.pyplot as plt\n",
    "\n",
    "# Assuming you have the true labels and predicted labels for the test set\n",
    "true_labels = test_generator.classes\n",
    "predicted_labels = model.predict(test_generator).argmax(axis=1)\n",
    "\n",
    "# Create confusion matrix\n",
    "cm = confusion_matrix(true_labels, predicted_labels)\n",
    "\n",
    "# Plot confusion matrix using seaborn\n",
    "plt.figure(figsize=(8, 6))\n",
    "sns.heatmap(cm, annot=True, cmap='Blues', fmt='g')\n",
    "plt.xlabel('Predicted')\n",
    "plt.ylabel('True')\n",
    "plt.title('Confusion Matrix')\n",
    "plt.show()\n"
   ]
  },
  {
   "cell_type": "code",
   "execution_count": null,
   "id": "5c504e01",
   "metadata": {},
   "outputs": [],
   "source": [
    "# Plotting training and validation loss\n",
    "import matplotlib.pyplot as plt\n",
    "\n",
    "loss = history.history['loss']\n",
    "val_loss = history.history['val_loss']\n",
    "epochs = range(1, len(loss) + 1)\n",
    "\n",
    "plt.figure(figsize=(10, 5))\n",
    "plt.plot(epochs, loss, 'b', label='Training loss')\n",
    "plt.plot(epochs, val_loss, 'r', label='Validation loss')\n",
    "plt.title('Training and Validation Loss')\n",
    "plt.xlabel('Epochs')\n",
    "plt.ylabel('Loss')\n",
    "plt.legend()\n",
    "plt.show()\n",
    "\n",
    "# Plotting training and validation accuracy\n",
    "acc = history.history['accuracy']\n",
    "val_acc = history.history['val_accuracy']\n",
    "\n",
    "plt.figure(figsize=(10, 5))\n",
    "plt.plot(epochs, acc, 'b', label='Training accuracy')\n",
    "plt.plot(epochs, val_acc, 'r', label='Validation accuracy')\n",
    "plt.title('Training and Validation Accuracy')\n",
    "plt.xlabel('Epochs')\n",
    "plt.ylabel('Accuracy')\n",
    "plt.legend()\n",
    "plt.show()\n"
   ]
  },
  {
   "cell_type": "code",
   "execution_count": null,
   "id": "9dd74889",
   "metadata": {},
   "outputs": [],
   "source": [
    "'''\n",
    "Optimization\n",
    "- add dropout, batch = 64, l2 weight normalization\n",
    "''''''"
   ]
  }
 ],
 "metadata": {
  "kernelspec": {
   "display_name": "Python 3 (ipykernel)",
   "language": "python",
   "name": "python3"
  },
  "language_info": {
   "codemirror_mode": {
    "name": "ipython",
    "version": 3
   },
   "file_extension": ".py",
   "mimetype": "text/x-python",
   "name": "python",
   "nbconvert_exporter": "python",
   "pygments_lexer": "ipython3",
   "version": "3.9.7"
  }
 },
 "nbformat": 4,
 "nbformat_minor": 5
}
