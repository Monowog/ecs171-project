{
 "cells": [
  {
   "cell_type": "code",
   "execution_count": 1,
   "id": "8de2ccb5",
   "metadata": {},
   "outputs": [
    {
     "name": "stdout",
     "output_type": "stream",
     "text": [
      "['paper', '.DS_Store', 'metal', 'cardboard', 'trash', 'glass', 'plastic']\n"
     ]
    }
   ],
   "source": [
    "import os\n",
    "import numpy as np\n",
    "\n",
    "data = 'archive/Garbage classification/Garbage classification'\n",
    "\n",
    "print(os.listdir(data))\n",
    "from PIL import Image\n",
    "\n",
    "png_filepath = data + '/paper/paper312.jpg'"
   ]
  },
  {
   "cell_type": "code",
   "execution_count": 2,
   "id": "02abca6f",
   "metadata": {},
   "outputs": [
    {
     "name": "stderr",
     "output_type": "stream",
     "text": [
      "2023-11-09 11:12:03.668830: I tensorflow/core/platform/cpu_feature_guard.cc:182] This TensorFlow binary is optimized to use available CPU instructions in performance-critical operations.\n",
      "To enable the following instructions: AVX2 FMA, in other operations, rebuild TensorFlow with the appropriate compiler flags.\n"
     ]
    },
    {
     "name": "stdout",
     "output_type": "stream",
     "text": [
      "Found 2276 images belonging to 6 classes.\n",
      "Found 251 images belonging to 6 classes.\n"
     ]
    }
   ],
   "source": [
    "from tensorflow.keras.preprocessing.image import ImageDataGenerator\n",
    "\n",
    "batch_size = 2000 # Make this number of images or do actual BGD\n",
    "target_size = (128, 128) # Make this smaller\n",
    "\n",
    "train = ImageDataGenerator(horizontal_flip=True, vertical_flip=True,validation_split=0.1,rescale=1./255,\n",
    "                         shear_range = 0.1,zoom_range = 0.1,\n",
    "                         width_shift_range = 0.1,\n",
    "                         height_shift_range = 0.1,)\n",
    "\n",
    "test =ImageDataGenerator(rescale=1./255,validation_split=0.1)\n",
    "\n",
    "train_generator=train.flow_from_directory(data,target_size=target_size,batch_size=batch_size,class_mode='sparse',subset='training')\n",
    "\n",
    "test_generator=test.flow_from_directory(data,target_size=target_size,batch_size=batch_size,class_mode='categorical',subset='validation')"
   ]
  },
  {
   "cell_type": "code",
   "execution_count": null,
   "id": "249b66fd",
   "metadata": {},
   "outputs": [],
   "source": [
    "from tensorflow.keras.callbacks import ModelCheckpoint\n",
    "from tensorflow.keras import models, layers\n",
    "\n",
    "labels = list(train_generator.class_indices.keys())\n",
    "print(labels)\n",
    "num_classes = len(labels)\n",
    "\n",
    "# Build Model\n",
    "model = models.Sequential()\n",
    "\n",
    "\n",
    "model.add(layers.Conv2D(8,(3,3), padding='same', input_shape=(128, 128,3),activation='relu'))\n",
    "model.add(layers.MaxPooling2D(pool_size=(2,2))) \n",
    "\n",
    "model.add(layers.Conv2D(8,(3,3), padding='same', activation='relu'))\n",
    "model.add(layers.MaxPooling2D(pool_size=(2,2))) \n",
    "\n",
    "model.add(layers.Conv2D(16,(3,3), padding='same', activation='relu'))\n",
    "model.add(layers.MaxPooling2D(pool_size=(2,2)))\n",
    "\n",
    "model.add(layers.Conv2D(16,(3,3), padding='same', activation='relu'))\n",
    "model.add(layers.MaxPooling2D(pool_size=(2,2))) \n",
    "\n",
    "model.add(layers.Conv2D(32,(3,3), padding='same', activation='relu'))\n",
    "model.add(layers.MaxPooling2D(pool_size=(2,2)))\n",
    "\n",
    "model.add(layers.Conv2D(32,(3,3), padding='same', activation='relu'))\n",
    "model.add(layers.MaxPooling2D(pool_size=(2,2))) \n",
    "\n",
    "\n",
    "model.add(layers.Flatten())\n",
    "model.add(layers.Dense(1024,activation='relu'))\n",
    "model.add(layers.Dense(64,activation='relu'))\n",
    "model.add(layers.Dense(num_classes,activation='softmax'))\n",
    "\n",
    "# adding a dropout layer, batch normalization, early stopping\n",
    "\n",
    "model.summary()"
   ]
  },
  {
   "cell_type": "code",
   "execution_count": null,
   "id": "1527bbf9",
   "metadata": {},
   "outputs": [],
   "source": [
    "import tensorflow as tf\n",
    "model.compile(optimizer=tf.keras.optimizers.Adam(learning_rate=1e-3), loss=tf.keras.losses.CategoricalCrossentropy())"
   ]
  },
  {
   "cell_type": "code",
   "execution_count": null,
   "id": "191018bb",
   "metadata": {},
   "outputs": [],
   "source": [
    "model.fit(train_generator, epochs=100, validation_data=(test_generator))"
   ]
  }
 ],
 "metadata": {
  "kernelspec": {
   "display_name": "Python 3 (ipykernel)",
   "language": "python",
   "name": "python3"
  },
  "language_info": {
   "codemirror_mode": {
    "name": "ipython",
    "version": 3
   },
   "file_extension": ".py",
   "mimetype": "text/x-python",
   "name": "python",
   "nbconvert_exporter": "python",
   "pygments_lexer": "ipython3",
   "version": "3.9.7"
  }
 },
 "nbformat": 4,
 "nbformat_minor": 5
}
