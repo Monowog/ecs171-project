{
 "cells": [
  {
   "cell_type": "code",
   "execution_count": 7,
   "id": "8de2ccb5",
   "metadata": {},
   "outputs": [
    {
     "name": "stdout",
     "output_type": "stream",
     "text": [
      "['paper', '.DS_Store', 'metal', 'cardboard', 'trash', 'glass', 'plastic']\n"
     ]
    }
   ],
   "source": [
    "import os\n",
    "import numpy as np\n",
    "\n",
    "data = 'archive/Garbage classification/Garbage classification'\n",
    "\n",
    "print(os.listdir(data))\n",
    "from PIL import Image\n",
    "\n",
    "png_filepath = data + '/paper/paper312.jpg'\n",
    "png_pil_img = Image.open(png_filepath)\n",
    "png_np_img = np.asarray(png_pil_img)"
   ]
  },
  {
   "cell_type": "code",
   "execution_count": 16,
   "id": "10e2a11b",
   "metadata": {},
   "outputs": [
    {
     "data": {
      "text/plain": [
       "(3, 512, 384)"
      ]
     },
     "execution_count": 16,
     "metadata": {},
     "output_type": "execute_result"
    }
   ],
   "source": [
    "png_np_img.T.shape"
   ]
  },
  {
   "cell_type": "code",
   "execution_count": 23,
   "id": "02abca6f",
   "metadata": {},
   "outputs": [
    {
     "name": "stdout",
     "output_type": "stream",
     "text": [
      "Found 2276 images belonging to 6 classes.\n",
      "Found 251 images belonging to 6 classes.\n"
     ]
    }
   ],
   "source": [
    "from tensorflow.keras.preprocessing.image import ImageDataGenerator\n",
    "\n",
    "batch_size = 64 # Make this number of images or do actual BGD\n",
    "target_size = (128, 128) # Make this smaller\n",
    "\n",
    "train = ImageDataGenerator(horizontal_flip=True, vertical_flip=True,validation_split=0.1,rescale=1./255,\n",
    "                         shear_range = 0.1,zoom_range = 0.1,\n",
    "                         width_shift_range = 0.1,\n",
    "                         height_shift_range = 0.1,)\n",
    "\n",
    "test =ImageDataGenerator(rescale=1./255,validation_split=0.1)\n",
    "\n",
    "train_generator = train.flow_from_directory(\n",
    "    data,\n",
    "    target_size=(128, 128),\n",
    "    batch_size=batch_size,\n",
    "    class_mode='categorical',\n",
    "    subset = 'training'\n",
    ")\n",
    "\n",
    "test_generator = test.flow_from_directory(\n",
    "    data,\n",
    "    target_size=(128, 128),\n",
    "    batch_size=batch_size,\n",
    "    class_mode='categorical',\n",
    "    subset = 'validation'\n",
    ")"
   ]
  },
  {
   "cell_type": "code",
   "execution_count": 34,
   "id": "249b66fd",
   "metadata": {},
   "outputs": [],
   "source": [
    "from tensorflow.keras.callbacks import ModelCheckpoint\n",
    "from tensorflow.keras import models, layers\n",
    "import tensorflow as tf\n",
    "\n",
    "def create_model():\n",
    "    labels = list(train_generator.class_indices.keys())\n",
    "    print(labels)\n",
    "    num_classes = len(labels)\n",
    "\n",
    "    # Build Model\n",
    "    model = models.Sequential()\n",
    "\n",
    "\n",
    "    model.add(layers.Conv2D(8,(3,3), padding='same', input_shape=(128, 128,3),activation='relu'))\n",
    "    model.add(layers.MaxPooling2D(pool_size=(2,2))) \n",
    "\n",
    "    model.add(layers.Conv2D(8,(3,3), padding='same', activation='relu'))\n",
    "    model.add(layers.MaxPooling2D(pool_size=(2,2))) \n",
    "\n",
    "    model.add(layers.Conv2D(16,(3,3), padding='same', activation='relu'))\n",
    "    model.add(layers.MaxPooling2D(pool_size=(2,2)))\n",
    "\n",
    "    model.add(layers.Conv2D(16,(3,3), padding='same', activation='relu'))\n",
    "    model.add(layers.MaxPooling2D(pool_size=(2,2))) \n",
    "\n",
    "    model.add(layers.Conv2D(32,(3,3), padding='same', activation='relu'))\n",
    "    model.add(layers.MaxPooling2D(pool_size=(2,2)))\n",
    "\n",
    "    model.add(layers.Conv2D(32,(3,3), padding='same', activation='relu'))\n",
    "    model.add(layers.MaxPooling2D(pool_size=(2,2))) \n",
    "\n",
    "\n",
    "    model.add(layers.Flatten())\n",
    "    model.add(layers.Dense(1024,activation='relu'))\n",
    "    model.add(layers.Dense(64,activation='relu'))\n",
    "    model.add(layers.Dense(num_classes,activation='softmax'))\n",
    "\n",
    "    # adding a dropout layer, batch normalization, early stopping\n",
    "    model.compile(optimizer=tf.keras.optimizers.Adam(learning_rate=1e-3), loss=tf.keras.losses.CategoricalCrossentropy(), metrics=['accuracy'])\n",
    "    checkpoint = ModelCheckpoint(\"best_model.h5\", monitor='val_accuracy', verbose=1, save_best_only=True, mode='max')\n",
    "    \n",
    "    return model, checkpoint"
   ]
  },
  {
   "cell_type": "code",
   "execution_count": 36,
   "id": "191018bb",
   "metadata": {},
   "outputs": [
    {
     "name": "stdout",
     "output_type": "stream",
     "text": [
      "['cardboard', 'glass', 'metal', 'paper', 'plastic', 'trash']\n",
      "Epoch 1/10\n",
      "2/2 [==============================] - 19s 16s/step - loss: 1.7725 - accuracy: 0.2144 - val_loss: 1.7450 - val_accuracy: 0.2351\n",
      "Epoch 2/10\n",
      "2/2 [==============================] - 17s 1s/step - loss: 1.7455 - accuracy: 0.2351 - val_loss: 1.7275 - val_accuracy: 0.2351\n",
      "Epoch 3/10\n",
      "2/2 [==============================] - 18s 16s/step - loss: 1.7263 - accuracy: 0.2351 - val_loss: 1.7207 - val_accuracy: 0.1992\n",
      "Epoch 4/10\n",
      "2/2 [==============================] - 18s 16s/step - loss: 1.7260 - accuracy: 0.1982 - val_loss: 1.7202 - val_accuracy: 0.1992\n",
      "Epoch 5/10\n",
      "2/2 [==============================] - 18s 16s/step - loss: 1.7223 - accuracy: 0.2280 - val_loss: 1.7148 - val_accuracy: 0.2351\n",
      "Epoch 6/10\n",
      "2/2 [==============================] - 18s 16s/step - loss: 1.7194 - accuracy: 0.2351 - val_loss: 1.7151 - val_accuracy: 0.2351\n",
      "Epoch 7/10\n",
      "2/2 [==============================] - 17s 15s/step - loss: 1.7204 - accuracy: 0.2351 - val_loss: 1.7140 - val_accuracy: 0.2351\n",
      "Epoch 8/10\n",
      "2/2 [==============================] - 17s 15s/step - loss: 1.7179 - accuracy: 0.2351 - val_loss: 1.7104 - val_accuracy: 0.2351\n",
      "Epoch 9/10\n",
      "2/2 [==============================] - 16s 1s/step - loss: 1.7154 - accuracy: 0.2351 - val_loss: 1.7094 - val_accuracy: 0.2351\n",
      "Epoch 10/10\n",
      "2/2 [==============================] - 17s 15s/step - loss: 1.7143 - accuracy: 0.2351 - val_loss: 1.7074 - val_accuracy: 0.2351\n"
     ]
    }
   ],
   "source": [
    "from scikeras.wrappers import KerasClassifier\n",
    "from tensorflow.keras.callbacks import ModelCheckpoint\n",
    "\n",
    "# Create your model and checkpoint\n",
    "model, checkpoint = create_model()\n",
    "\n",
    "# Train the model using the training generator\n",
    "history = model.fit(train_generator, epochs=10, validation_data=test_generator)"
   ]
  },
  {
   "cell_type": "code",
   "execution_count": null,
   "id": "b649ceb7",
   "metadata": {},
   "outputs": [],
   "source": [
    "'''\n",
    "Optimization\n",
    "- add dropout, batch = 64, l2 weight normalization\n",
    "''''''"
   ]
  }
 ],
 "metadata": {
  "kernelspec": {
   "display_name": "Python 3 (ipykernel)",
   "language": "python",
   "name": "python3"
  },
  "language_info": {
   "codemirror_mode": {
    "name": "ipython",
    "version": 3
   },
   "file_extension": ".py",
   "mimetype": "text/x-python",
   "name": "python",
   "nbconvert_exporter": "python",
   "pygments_lexer": "ipython3",
   "version": "3.9.7"
  }
 },
 "nbformat": 4,
 "nbformat_minor": 5
}
