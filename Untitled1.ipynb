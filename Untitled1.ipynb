{
 "cells": [
  {
   "cell_type": "code",
   "execution_count": null,
   "id": "5a793a79",
   "metadata": {},
   "outputs": [],
   "source": [
    "#import CNN \n",
    "from tensorflow.keras.preprocessing import image\n",
    "import numpy as np\n",
    "\n",
    "def prediction():\n",
    "    \n",
    "    data = 'archive/Garbage classification/Garbage classification'\n",
    "    img_path = data + '/paper/paper312.jpg'  \n",
    "    img = image.load_img(img_path, target_size=(128, 96))  \n",
    "    img_array = image.img_to_array(img)\n",
    "    img_array = np.expand_dims(img_array, axis=0)  \n",
    "    img_array = img_array / 255.0  \n",
    "\n",
    "    predictions = final_model.predict(img_array)\n",
    "    predicted_class = np.argmax(predictions, axis=1)[0]\n",
    "\n",
    "    class_labels = ['cardboard', 'glass', 'metal', 'paper', 'plastic', 'trash']\n",
    "    print(class_lanels)\n",
    "    predicted_label = class_labels[predicted_class]\n",
    "\n",
    "    print(\"Predicted class:\", predicted_label)"
   ]
  }
 ],
 "metadata": {
  "kernelspec": {
   "display_name": "Python 3 (ipykernel)",
   "language": "python",
   "name": "python3"
  },
  "language_info": {
   "codemirror_mode": {
    "name": "ipython",
    "version": 3
   },
   "file_extension": ".py",
   "mimetype": "text/x-python",
   "name": "python",
   "nbconvert_exporter": "python",
   "pygments_lexer": "ipython3",
   "version": "3.9.7"
  }
 },
 "nbformat": 4,
 "nbformat_minor": 5
}
